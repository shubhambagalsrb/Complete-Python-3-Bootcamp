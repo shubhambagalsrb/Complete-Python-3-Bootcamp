{
  "nbformat": 4,
  "nbformat_minor": 0,
  "metadata": {
    "colab": {
      "provenance": [],
      "authorship_tag": "ABX9TyOC55ZJYyA9pA4yvhxtcWke",
      "include_colab_link": true
    },
    "kernelspec": {
      "name": "python3",
      "display_name": "Python 3"
    },
    "language_info": {
      "name": "python"
    }
  },
  "cells": [
    {
      "cell_type": "markdown",
      "metadata": {
        "id": "view-in-github",
        "colab_type": "text"
      },
      "source": [
        "<a href=\"https://colab.research.google.com/github/shubhambagalsrb/Complete-Python-3-Bootcamp/blob/master/Monte_carlo_simulation.ipynb\" target=\"_parent\"><img src=\"https://colab.research.google.com/assets/colab-badge.svg\" alt=\"Open In Colab\"/></a>"
      ]
    },
    {
      "cell_type": "code",
      "execution_count": 1,
      "metadata": {
        "id": "eKkLNyHxQ8OY"
      },
      "outputs": [],
      "source": [
        "import numpy as np\n",
        "import matplotlib.pyplot as plt"
      ]
    },
    {
      "cell_type": "markdown",
      "source": [
        "Data Collection and preprocessing"
      ],
      "metadata": {
        "id": "yBDJsLDMRc0Y"
      }
    },
    {
      "cell_type": "code",
      "source": [
        "demand_data = [10, 15, 12, 18, 20, 14, 16, 10, 13, 17, 11, 19]"
      ],
      "metadata": {
        "id": "vwysIiJCRGH8"
      },
      "execution_count": 2,
      "outputs": []
    },
    {
      "cell_type": "markdown",
      "source": [
        "Defining Inventory Parameters"
      ],
      "metadata": {
        "id": "eHpKprJhRyg-"
      }
    },
    {
      "cell_type": "code",
      "source": [
        "service_level = 0.95\n",
        "lead_time = 2 # months\n",
        "holding_cost = 0.1 # cost per unit per month\n",
        "ordering_cost = 50 #cost per order"
      ],
      "metadata": {
        "id": "MtPBR7f-RXwo"
      },
      "execution_count": 5,
      "outputs": []
    },
    {
      "cell_type": "markdown",
      "source": [
        "Implement monte carlo simulation in python"
      ],
      "metadata": {
        "id": "hgUkCFhkS2CJ"
      }
    },
    {
      "cell_type": "code",
      "source": [
        "num_iterations = 1000\n",
        "inventory_levels = []\n",
        "\n",
        "for _ in range(num_iterations):\n",
        "    demand_scenarios = np.random.choice(demand_data, size = lead_time)\n",
        "    demand_forecast  = np.mean(demand_scenarios)\n",
        "    inventory_position = demand_forecast * lead_time\n",
        "    inventory_levels.append(inventory_position)"
      ],
      "metadata": {
        "id": "1hjHmUmNSy5h"
      },
      "execution_count": 6,
      "outputs": []
    },
    {
      "cell_type": "markdown",
      "source": [
        "Analyzing the Simulation Results"
      ],
      "metadata": {
        "id": "2yeo-1I3TrYe"
      }
    },
    {
      "cell_type": "code",
      "source": [
        "mean_inventory = np.mean(inventory_levels)\n",
        "std_inventory = np.std(inventory_levels)"
      ],
      "metadata": {
        "id": "1xt6DCw9TrGW"
      },
      "execution_count": 7,
      "outputs": []
    },
    {
      "cell_type": "markdown",
      "source": [
        "Sensitivity Analysis and decision making (Dummy values)"
      ],
      "metadata": {
        "id": "GFt2C-_fT6qR"
      }
    },
    {
      "cell_type": "code",
      "source": [
        "z_score = np.abs(np.percentile(inventory_levels, (1 - service_level)*100))\n",
        "reorder_point = lead_time * demand_forecast + z_score * np.sqrt(lead_time * np.var(demand_data))\n",
        "safety_stock = z_score * np.sqrt(lead_time * np.var(demand_data))"
      ],
      "metadata": {
        "id": "Y4tqfYdBT3ts"
      },
      "execution_count": 8,
      "outputs": []
    },
    {
      "cell_type": "markdown",
      "source": [
        "Results"
      ],
      "metadata": {
        "id": "8q_Iv9rNU_9D"
      }
    },
    {
      "cell_type": "code",
      "source": [
        "print(\"Simulation results : \")\n",
        "print(f\"Mean Inventory Level: {mean_inventory:.2f}\")\n",
        "print(f\"Standard Deviation of Inventory Level: {std_inventory:.2f}\")\n",
        "print(f\"Reorder Point: {reorder_point:.2f}\")\n",
        "print(f\"Safety Stock: {safety_stock:.2f}\")"
      ],
      "metadata": {
        "colab": {
          "base_uri": "https://localhost:8080/"
        },
        "id": "JgriTrToVAwQ",
        "outputId": "fc78724c-bf85-4b9f-b3b1-1dcaa3d04cde"
      },
      "execution_count": 9,
      "outputs": [
        {
          "output_type": "stream",
          "name": "stdout",
          "text": [
            "Simulation results : \n",
            "Mean Inventory Level: 29.14\n",
            "Standard Deviation of Inventory Level: 4.74\n",
            "Reorder Point: 128.84\n",
            "Safety Stock: 98.84\n"
          ]
        }
      ]
    },
    {
      "cell_type": "markdown",
      "source": [
        "plotting the inventory distribution"
      ],
      "metadata": {
        "id": "GqK0V9yrVcsW"
      }
    },
    {
      "cell_type": "code",
      "source": [
        "plt.hist(inventory_levels, bins = 30, edgecolor = 'black')\n",
        "plt.xlabel('Inventory Level')\n",
        "plt.ylabel('Frequency')\n",
        "plt.title('Monte Carlo Simulation: Distribution of Inventory Levels')\n",
        "plt.show()"
      ],
      "metadata": {
        "colab": {
          "base_uri": "https://localhost:8080/",
          "height": 472
        },
        "id": "R5egOGgXVhW9",
        "outputId": "88dc3018-9b8d-4e86-a27f-3f15f5e724c2"
      },
      "execution_count": 10,
      "outputs": [
        {
          "output_type": "display_data",
          "data": {
            "text/plain": [
              "<Figure size 640x480 with 1 Axes>"
            ],
            "image/png": "[encoded data removed]"
          },
          "metadata": {}
        }
      ]
    },
    {
      "cell_type": "code",
      "source": [],
      "metadata": {
        "id": "nvHj_HiHV1aO"
      },
      "execution_count": null,
      "outputs": []
    }
  ]
}